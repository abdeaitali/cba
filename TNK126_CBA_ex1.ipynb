{
 "cells": [
  {
   "cell_type": "markdown",
   "metadata": {},
   "source": [
    "# TNK126 - CBA Exercise 1 (simple case)\n",
    "Simple case, i.e., no emissions, no producer surplus."
   ]
  },
  {
   "cell_type": "markdown",
   "metadata": {},
   "source": [
    "## Parameters"
   ]
  },
  {
   "cell_type": "code",
   "execution_count": 55,
   "metadata": {},
   "outputs": [],
   "source": [
    "travelers = 2000 # number of travelers per day\n",
    "\n",
    "share_train = 0.5 # share of travelers using train\n",
    "share_bus = (1-share_train) # share of travelers using bus\n",
    "\n",
    "old_ticket_price = 40 # ticket price before the investment\n",
    "\n",
    "time_value = 80  # SEK/hour\n",
    "\n",
    "# two investment options, A (faster buses) and B (modern trains)\n",
    "option_labels = [\"A\", \"B\"] # labels for the investment options\n",
    "investments = {\"A\": {\"reduced_travel_time\": 8, \n",
    "                     \"new_ticket_price\": 42, \n",
    "                     \"attracted_motorists\": 300, \n",
    "                     \"cost\": 15000,\n",
    "                     \"travelers\": travelers*share_bus},\n",
    "               \"B\": {\"reduced_travel_time\": 12, \n",
    "                     \"new_ticket_price\": 47, \n",
    "                     \"attracted_motorists\": 600, \n",
    "                     \"cost\": 18000,\n",
    "                     \"travelers\": travelers*share_train}}"
   ]
  },
  {
   "cell_type": "markdown",
   "metadata": {},
   "source": [
    "## Change in generalized costs (GC)"
   ]
  },
  {
   "cell_type": "code",
   "execution_count": 56,
   "metadata": {},
   "outputs": [],
   "source": [
    "# Calculate change in Generalized Cost (GC) per traveler\n",
    "def calculate_gc_change(option):\n",
    "    # change in ticket cost\n",
    "    ticket_change = old_ticket_price - investments[option][\"new_ticket_price\"] # SEK per traveler\n",
    "    # change in travel time cost\n",
    "    travel_time_change = (time_value * investments[option][\"reduced_travel_time\"] / 60) # SEK per traveler (reduce travel time in minutes!)\n",
    "    return ticket_change + travel_time_change"
   ]
  },
  {
   "cell_type": "code",
   "execution_count": 57,
   "metadata": {},
   "outputs": [
    {
     "name": "stdout",
     "output_type": "stream",
     "text": [
      "Option A Change in GC: 8.666666666666666 SEK per traveler and day\n",
      "Option B Change in GC: 9.0 SEK per traveler and day\n"
     ]
    }
   ],
   "source": [
    "## calculate the change in GC for each option\n",
    "gc_change = {}\n",
    "for option in option_labels:\n",
    "    gc_change[option] = calculate_gc_change(option)\n",
    "    # print option and change in GC\n",
    "    print(\"Option\", option, \"Change in GC:\", gc_change[option], \"SEK per traveler and day\")"
   ]
  },
  {
   "cell_type": "markdown",
   "metadata": {},
   "source": [
    "## Consumer surplus"
   ]
  },
  {
   "cell_type": "code",
   "execution_count": 58,
   "metadata": {},
   "outputs": [],
   "source": [
    "# Calculate Consumer Surplus (Rule of Half)\n",
    "def calculate_cs(option):\n",
    "    delta_gc = calculate_gc_change(option)\n",
    "    attracted = investments[option][\"attracted_motorists\"]\n",
    "    cs = (travelers + attracted / 2) * delta_gc\n",
    "    return cs"
   ]
  },
  {
   "cell_type": "code",
   "execution_count": 59,
   "metadata": {},
   "outputs": [
    {
     "name": "stdout",
     "output_type": "stream",
     "text": [
      "Option A Consumer Surplus: 18633.333333333332 SEK per day\n",
      "Option B Consumer Surplus: 20700.0 SEK per day\n"
     ]
    }
   ],
   "source": [
    "## calculate the consumer surplus for each option\n",
    "cs = {}\n",
    "for option in option_labels:\n",
    "    cs[option] = calculate_cs(option)\n",
    "    # print option and consumer surplus\n",
    "    print(\"Option\", option, \"Consumer Surplus:\", cs[option], \"SEK per day\")"
   ]
  },
  {
   "cell_type": "markdown",
   "metadata": {},
   "source": [
    "## Net benefits"
   ]
  },
  {
   "cell_type": "code",
   "execution_count": 60,
   "metadata": {},
   "outputs": [],
   "source": [
    "# Calculate Net Benefit\n",
    "def calculate_net_benefit(option):\n",
    "    cs = calculate_cs(option)\n",
    "    cost = investments[option][\"cost\"]\n",
    "    return cs - cost"
   ]
  },
  {
   "cell_type": "code",
   "execution_count": 61,
   "metadata": {},
   "outputs": [
    {
     "name": "stdout",
     "output_type": "stream",
     "text": [
      "Option A Net Benefit: 3633.333333333332 SEK per day\n",
      "Option B Net Benefit: 2700.0 SEK per day\n",
      "Option A is socio-economical with a positive net benefit of 3633.333333333332 SEK per day\n",
      "Option B is socio-economical with a positive net benefit of 2700.0 SEK per day\n"
     ]
    }
   ],
   "source": [
    "# calculate the net benefit for each option\n",
    "net_benefit = {}\n",
    "for option in option_labels:\n",
    "    net_benefit[option] = calculate_net_benefit(option)\n",
    "    # print option and net benefit\n",
    "    print(\"Option\", option, \"Net Benefit:\", net_benefit[option], \"SEK per day\")\n",
    "\n",
    "# print the socio-economical option(s), i.e. the option(s) with the positive net benefit\n",
    "for option in option_labels:\n",
    "    if net_benefit[option] > 0:\n",
    "        print(\"Option\", option, \"is socio-economical with a positive net benefit of\", net_benefit[option], \"SEK per day\")"
   ]
  },
  {
   "cell_type": "markdown",
   "metadata": {},
   "source": [
    "## Benefit-cost ratio"
   ]
  },
  {
   "cell_type": "code",
   "execution_count": 62,
   "metadata": {},
   "outputs": [
    {
     "name": "stdout",
     "output_type": "stream",
     "text": [
      "Option A Benefit-Cost Ratio: 0.24222222222222214\n",
      "Option B Benefit-Cost Ratio: 0.15\n",
      "Option A is the best investment with a benefit-cost ratio of 0.24222222222222214\n",
      "For each invested SEK in Option A the return is 0.24222222222222214 SEK\n"
     ]
    }
   ],
   "source": [
    "# calculate the benefit-cost ratio for each option, i.e., ratio of the net benefit to the cost\n",
    "bcr = {}\n",
    "for option in option_labels:\n",
    "    bcr[option] = net_benefit[option] / investments[option][\"cost\"]\n",
    "    # print option and benefit-cost ratio\n",
    "    print(\"Option\", option, \"Benefit-Cost Ratio:\", bcr[option])\n",
    "\n",
    "# print the option with the highest benefit-cost ratio, the best investment\n",
    "best_option = max(bcr, key=bcr.get)\n",
    "print(\"Option\", best_option, \"is the best investment with a benefit-cost ratio of\", bcr[best_option])\n",
    "# print the meaning of the ratio, i.e., the return on investment (ROI) for each invested SEK\n",
    "print(\"For each invested SEK in Option\", best_option, \"the return is\", bcr[best_option], \"SEK\")"
   ]
  }
 ],
 "metadata": {
  "kernelspec": {
   "display_name": "Python 3",
   "language": "python",
   "name": "python3"
  },
  "language_info": {
   "codemirror_mode": {
    "name": "ipython",
    "version": 3
   },
   "file_extension": ".py",
   "mimetype": "text/x-python",
   "name": "python",
   "nbconvert_exporter": "python",
   "pygments_lexer": "ipython3",
   "version": "3.9.5"
  }
 },
 "nbformat": 4,
 "nbformat_minor": 2
}
